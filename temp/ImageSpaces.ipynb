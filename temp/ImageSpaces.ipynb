{
 "cells": [
  {
   "cell_type": "code",
   "execution_count": 1,
   "id": "d52382ad",
   "metadata": {},
   "outputs": [],
   "source": [
    "import numpy as np\n",
    "import matplotlib.pyplot as plt\n",
    "import cv2"
   ]
  },
  {
   "cell_type": "code",
   "execution_count": 2,
   "id": "99adf564",
   "metadata": {},
   "outputs": [
    {
     "data": {
      "image/png": "[encoded data removed]",
      "text/plain": [
       "<Figure size 432x288 with 1 Axes>"
      ]
     },
     "metadata": {
      "needs_background": "light"
     },
     "output_type": "display_data"
    },
    {
     "name": "stdout",
     "output_type": "stream",
     "text": [
      "(500, 500, 3)\n"
     ]
    }
   ],
   "source": [
    "img = cv2.imread('utils/redsquare.png')      # Load Image\n",
    "img = cv2.cvtColor(img, cv2.COLOR_BGR2RGB )  # Convert to RGB\n",
    "\n",
    "plt.imshow(img)\n",
    "plt.show()\n",
    "print(img.shape)"
   ]
  },
  {
   "cell_type": "code",
   "execution_count": 3,
   "id": "e3c0e41b",
   "metadata": {},
   "outputs": [],
   "source": [
    "R,G,B = img[1,1,0],img[1,1,1],img[1,1,2]\n",
    "RGB   = np.array([R,G,B],dtype=np.uint8)"
   ]
  },
  {
   "cell_type": "code",
   "execution_count": 45,
   "id": "83719a93",
   "metadata": {},
   "outputs": [],
   "source": [
    "def Regularize(RGB):\n",
    "    return RGB/255\n",
    "\n",
    "def RGB2HSV(RGB):\n",
    "    R,G,B = RGB\n",
    "    Max = np.max(RGB)\n",
    "    Min = np.min(RGB)\n",
    "    V = Max\n",
    "    Delta = Max - Min\n",
    "    S = Delta/Max\n",
    "    if Delta == 0:\n",
    "        H=0\n",
    "        print(\"H is undefined\")\n",
    "    else:\n",
    "        if Max == R and Min == B:\n",
    "            H = 1/6*(G-B)/Delta\n",
    "\n",
    "        elif Max == G and Min == B:\n",
    "            H = 1/6*(1+(R-B)/Delta)\n",
    "\n",
    "        elif Max == G and Min == R: \n",
    "            H = 1/6*(2+(B-R)/Delta)\n",
    "\n",
    "        elif Max == B and Min == R:\n",
    "            H = 1/6*(3+(G-R)/Delta)\n",
    "\n",
    "        elif Max == B and Min == G:\n",
    "            H = 1/6*(4+(R-G)/Delta)\n",
    "            \n",
    "        elif Max == B and Min == G:\n",
    "            H = 1/6*(5+(B-G)/Delta)\n",
    "            \n",
    "    return np.array([H,S,V])\n",
    "\n",
    "\n",
    "def RGB2YIQ(RGB):\n",
    "    YIQTranformation = np.array([[0.299,0.587,0.114],[0.595716,-0.274453,-0.321263],[0.211456,-0.522591,0.311135]])\n",
    "    RGB = RGB.reshape(-1,1)\n",
    "    \n",
    "    return (YIQTranformation.dot(RGB)).flatten()\n",
    "\n",
    "def YIQ2RGB(YIQ):\n",
    "    RGBTranformation = np.array([[1,0.9563,0.6210],[1,-0.2721,-0.6474],[1,-1.1070,1.7046]])\n",
    "    YIQ = YIQ.reshape(-1,1)\n",
    "    return np.round((RGBTranformation.dot(YIQ)).flatten(),decimals=2)\n",
    "\n",
    "def RGB2XYZ(RGB):\n",
    "    XYZTranformation = np.array([[0.5767309,0.1855540,0.1881852],[0.29273769,0.6273491,0.0752741],[0.0270343,0.0706872,0.9911085]])\n",
    "    XYZ = (RGB**2.2).reshape(-1,1)\n",
    "    return (XYZTranformation@XYZ).flatten()\n",
    "\n",
    "def RGB2LAB(RGB):\n",
    "    XYZ = RGB2XYZ(RGB)\n",
    "    XYZn = XYZ/np.array([0.9505,1,1.0888])\n",
    "\n",
    "    P = np.zeros_like(XYZn)\n",
    "    for pi in range(0,P.__len__()):\n",
    "        if XYZn[pi] > 0.008856:\n",
    "            P[pi] = XYZn[pi]**(1/3)\n",
    "        elif XYZn[pi] < 0.008856:\n",
    "             P[pi] = 7.787*XYZn[pi] + 16/116\n",
    "\n",
    "    LAB = np.array([116*P[1]-16,500*(P[0]-P[1]),200*(P[1]-P[2])])   \n",
    "    \n",
    "    return LAB\n",
    "\n",
    "\n",
    "def RGB2HSI(RGB):\n",
    "    R,G,B = RGB\n",
    "    eps = 2.2204E-16\n",
    "    num = 0.5*((R - G)+(R - B))\n",
    "    den = np.sqrt((R - G)**2 + (R - B)*(G - B))\n",
    "    angle = np.arccos(num/(den + eps))\n",
    "    if B <=G:\n",
    "        H = angle\n",
    "    else:\n",
    "        H = 2*pi -  angle\n",
    "    \n",
    "    H = H/(2*np.pi)\n",
    "    num = np.min(RGB)\n",
    "    den = R + G + B\n",
    "    \n",
    "    if den == 0:\n",
    "        den = eps\n",
    "        \n",
    "    S = 1 - 3*num/den\n",
    "    \n",
    "    if S == 0:\n",
    "        H = eps\n",
    "    \n",
    "    \n",
    "    I = (R + G + B)/3\n",
    "    \n",
    "    return np.array([H,S,I])\n",
    "    \n",
    "    \n",
    "def GetColors(vec):\n",
    "    HSV  = RGB2HSV(vec)\n",
    "    print(f\"HSV: {HSV}\")\n",
    "    YIQ  = RGB2YIQ(vec)\n",
    "    print(f\"YIQ: {YIQ}\")\n",
    "    XYZ = RGB2XYZ(vec)\n",
    "    print(f\"XYZ: {XYZ}\")\n",
    "    LAB = RGB2LAB(vec)\n",
    "    print(f\"LAB: {LAB}\")\n",
    "    HSI = RGB2HSI(vec)\n",
    "    print(f\"HSI: {HSI}\")\n"
   ]
  },
  {
   "cell_type": "code",
   "execution_count": 46,
   "id": "211a5569",
   "metadata": {},
   "outputs": [
    {
     "name": "stdout",
     "output_type": "stream",
     "text": [
      "HSV: [0.34795322 0.79166667 0.72      ]\n",
      "YIQ: [ 0.49029    -0.17250136 -0.28232012]\n",
      "XYZ: [0.10440941 0.3112267  0.0634637 ]\n",
      "LAB: [ 62.61105113 -99.3809985   57.99094709]\n",
      "HSI: [0.34595198 0.57943925 0.35666667]\n"
     ]
    }
   ],
   "source": [
    "vec  = np.array([0.15,0.72,0.20])\n",
    "GetColors(vec)"
   ]
  },
  {
   "cell_type": "code",
   "execution_count": null,
   "id": "0609761d",
   "metadata": {},
   "outputs": [],
   "source": []
  }
 ],
 "metadata": {
  "kernelspec": {
   "display_name": "computervision",
   "language": "python",
   "name": "computervision"
  },
  "language_info": {
   "codemirror_mode": {
    "name": "ipython",
    "version": 3
   },
   "file_extension": ".py",
   "mimetype": "text/x-python",
   "name": "python",
   "nbconvert_exporter": "python",
   "pygments_lexer": "ipython3",
   "version": "3.7.9"
  }
 },
 "nbformat": 4,
 "nbformat_minor": 5
}
